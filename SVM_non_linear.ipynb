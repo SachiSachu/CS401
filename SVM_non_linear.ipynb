{
  "nbformat": 4,
  "nbformat_minor": 0,
  "metadata": {
    "colab": {
      "name": "SVM-non linear.ipynb",
      "provenance": [],
      "collapsed_sections": [],
      "authorship_tag": "ABX9TyOgb4mUC4cZanYKp/QEGBZZ",
      "include_colab_link": true
    },
    "kernelspec": {
      "name": "python3",
      "display_name": "Python 3"
    },
    "language_info": {
      "name": "python"
    }
  },
  "cells": [
    {
      "cell_type": "markdown",
      "metadata": {
        "id": "view-in-github",
        "colab_type": "text"
      },
      "source": [
        "<a href=\"https://colab.research.google.com/github/SachiSachu/CS401/blob/main/SVM_non_linear.ipynb\" target=\"_parent\"><img src=\"https://colab.research.google.com/assets/colab-badge.svg\" alt=\"Open In Colab\"/></a>"
      ]
    },
    {
      "cell_type": "code",
      "metadata": {
        "id": "K--Itaf5l-3z"
      },
      "source": [
        "import numpy as np\n",
        "import matplotlib.pyplot as plt\n",
        "import pandas as pd\n",
        "from sklearn import svm"
      ],
      "execution_count": null,
      "outputs": []
    },
    {
      "cell_type": "code",
      "metadata": {
        "id": "lFQMjpVmnCRP"
      },
      "source": [
        "# load data\n",
        "X_1 = np.loadtxt('class1_train.txt')\n",
        "X_2 = np.loadtxt('class2_train.txt')\n",
        "X_3 = np.loadtxt('class3_train.txt')\n",
        "X_1_val = np.loadtxt('class1_val.txt')\n",
        "X_2_val = np.loadtxt('class2_val.txt')\n",
        "X_3_val = np.loadtxt('class3_val.txt')\n",
        "X_1_test = np.loadtxt('class1_test.txt')\n",
        "X_2_test = np.loadtxt('class2_test.txt')\n",
        "X_3_test = np.loadtxt('class3_test.txt')\n",
        "X_train = np.concatenate((X_1, X_2, X_3))\n",
        "y_train = np.zeros((X_train.shape[0]))\n",
        "y_train[0:X_1.shape[0]] = 0\n",
        "y_train[X_1.shape[0]:] = 1"
      ],
      "execution_count": null,
      "outputs": []
    },
    {
      "cell_type": "code",
      "metadata": {
        "colab": {
          "base_uri": "https://localhost:8080/",
          "height": 312
        },
        "id": "ez5s6LVUnCyb",
        "outputId": "d4f8ce6e-fd47-4d05-f580-769320aa4c1f"
      },
      "source": [
        "# simply visualising data\n",
        "C1plt = plt.scatter(X_1[:, 0], X_1[:, 1], color = 'cyan', s = 2)\n",
        "C2plt = plt.scatter(X_2[:, 0], X_2[:, 1], color = 'magenta', s = 2)\n",
        "C3plt = plt.scatter(X_3[:, 0], X_3[:, 1], color = 'yellow', s = 2)\n",
        "plt.legend((C1plt, C2plt, C3plt), ('Class 1', 'Class 2', 'Class 3'))\n",
        "plt.title('Training data')\n",
        "plt.xlabel('X1')\n",
        "plt.ylabel('X2')"
      ],
      "execution_count": null,
      "outputs": [
        {
          "output_type": "execute_result",
          "data": {
            "text/plain": [
              "Text(0, 0.5, 'X2')"
            ]
          },
          "metadata": {},
          "execution_count": 4
        },
        {
          "output_type": "display_data",
          "data": {
            "image/png": "[encoded data removed]",
            "text/plain": [
              "<Figure size 432x288 with 1 Axes>"
            ]
          },
          "metadata": {
            "needs_background": "light"
          }
        }
      ]
    },
    {
      "cell_type": "code",
      "metadata": {
        "colab": {
          "base_uri": "https://localhost:8080/"
        },
        "id": "wF-aEkPanC1F",
        "outputId": "6a06a46b-fcf3-42ee-ab3c-2cd014afb17a"
      },
      "source": [
        "# svm classifier\n",
        "clf = svm.SVC(kernel = 'poly', degree = 3, gamma = 'scale', coef0 = 1, decision_function_shape='ovo')\n",
        "clf.fit(X_train, y_train)"
      ],
      "execution_count": null,
      "outputs": [
        {
          "output_type": "execute_result",
          "data": {
            "text/plain": [
              "SVC(coef0=1, decision_function_shape='ovo', kernel='poly')"
            ]
          },
          "metadata": {},
          "execution_count": 5
        }
      ]
    },
    {
      "cell_type": "code",
      "metadata": {
        "colab": {
          "base_uri": "https://localhost:8080/",
          "height": 143
        },
        "id": "R7naNmlPnC3d",
        "outputId": "6ff6b759-d576-4812-c891-67d0b1f28c41"
      },
      "source": [
        "# confusion matrix\n",
        "# rows: predicted classes, columns: true classes\n",
        "ConfusionMatrix = np.zeros((3, 3))\n",
        "X = [X_1_test, X_2_test, X_3_test]\n",
        "for i in range(3):\n",
        "    for x in X[i]:\n",
        "        x = x.reshape(1, -1)\n",
        "        ConfusionMatrix[int(clf.predict(x)), i] = ConfusionMatrix[int(clf.predict(x)), i]+1\n",
        "pd.DataFrame(ConfusionMatrix, ['Predicted 1', 'Predicted 2', 'Predicted 3'],['True 1', 'True 2', 'True 3'])"
      ],
      "execution_count": null,
      "outputs": [
        {
          "output_type": "execute_result",
          "data": {
            "text/html": [
              "<div>\n",
              "<style scoped>\n",
              "    .dataframe tbody tr th:only-of-type {\n",
              "        vertical-align: middle;\n",
              "    }\n",
              "\n",
              "    .dataframe tbody tr th {\n",
              "        vertical-align: top;\n",
              "    }\n",
              "\n",
              "    .dataframe thead th {\n",
              "        text-align: right;\n",
              "    }\n",
              "</style>\n",
              "<table border=\"1\" class=\"dataframe\">\n",
              "  <thead>\n",
              "    <tr style=\"text-align: right;\">\n",
              "      <th></th>\n",
              "      <th>True 1</th>\n",
              "      <th>True 2</th>\n",
              "      <th>True 3</th>\n",
              "    </tr>\n",
              "  </thead>\n",
              "  <tbody>\n",
              "    <tr>\n",
              "      <th>Predicted 1</th>\n",
              "      <td>60.0</td>\n",
              "      <td>0.0</td>\n",
              "      <td>0.0</td>\n",
              "    </tr>\n",
              "    <tr>\n",
              "      <th>Predicted 2</th>\n",
              "      <td>0.0</td>\n",
              "      <td>120.0</td>\n",
              "      <td>160.0</td>\n",
              "    </tr>\n",
              "    <tr>\n",
              "      <th>Predicted 3</th>\n",
              "      <td>0.0</td>\n",
              "      <td>0.0</td>\n",
              "      <td>0.0</td>\n",
              "    </tr>\n",
              "  </tbody>\n",
              "</table>\n",
              "</div>"
            ],
            "text/plain": [
              "             True 1  True 2  True 3\n",
              "Predicted 1    60.0     0.0     0.0\n",
              "Predicted 2     0.0   120.0   160.0\n",
              "Predicted 3     0.0     0.0     0.0"
            ]
          },
          "metadata": {},
          "execution_count": 6
        }
      ]
    },
    {
      "cell_type": "code",
      "metadata": {
        "colab": {
          "base_uri": "https://localhost:8080/"
        },
        "id": "3EnAJWLenC51",
        "outputId": "a428b4d3-47c7-4bba-9173-5c0466a93023"
      },
      "source": [
        "# performance measures\n",
        "N = np.sum(ConfusionMatrix[:, 0])\n",
        "TP = ConfusionMatrix[0, 0]\n",
        "TN = ConfusionMatrix[1, 1]\n",
        "FP = ConfusionMatrix[0, 1]\n",
        "FN = ConfusionMatrix[1, 0]\n",
        "Accuracy = 100*TP/N\n",
        "Precision = TP/(TP+FP)\n",
        "Recall = TP/(TP+FN)\n",
        "F_measure = 2*Precision*Recall/(Precision+Recall)\n",
        "print({\n",
        "    'Accuracy: ': Accuracy,\n",
        "})\n",
        "print({\n",
        "    'Precision: ': Precision,\n",
        "})\n",
        "print({\n",
        "    'Recall: ': Recall,\n",
        "})\n",
        "print({\n",
        "    'F_measure: ': F_measure,\n",
        "})"
      ],
      "execution_count": null,
      "outputs": [
        {
          "output_type": "stream",
          "name": "stdout",
          "text": [
            "{'Accuracy: ': 100.0}\n",
            "{'Precision: ': 1.0}\n",
            "{'Recall: ': 1.0}\n",
            "{'F_measure: ': 1.0}\n"
          ]
        }
      ]
    },
    {
      "cell_type": "code",
      "metadata": {
        "colab": {
          "base_uri": "https://localhost:8080/",
          "height": 385
        },
        "id": "Pfv3E3ernC8j",
        "outputId": "bdcc3473-432f-406f-ebb5-2901215051b2"
      },
      "source": [
        "# Decision region plot for all the classes together with the training data superposed\n",
        "x_min = min([min(X_1[:, 0]), min(X_2[:, 0]), min(X_3[:, 0])])\n",
        "y_min = min([min(X_1[:, 1]), min(X_2[:, 1]), min(X_3[:, 1])])\n",
        "x_max = max([max(X_1[:, 0]), max(X_2[:, 0]), max(X_3[:, 0])])\n",
        "y_max = max([max(X_1[:, 1]), max(X_2[:, 1]), max(X_3[:, 1])])\n",
        "x_1 = []\n",
        "x_2 = []\n",
        "#x_3 = []\n",
        "for x1 in np.arange(x_min, x_max, 0.01):\n",
        "    for y in np.arange(y_min, y_max, 0.01):\n",
        "        c = clf.predict([[x1, y]])\n",
        "        if c == 0:\n",
        "            x_1.append([x1, y])\n",
        "        elif c == 1:\n",
        "            x_2.append([x1, y])\n",
        " #       else:\n",
        "  #          x_3.append([x1, y])\n",
        "x_1 = np.array(x_1)\n",
        "x_2 = np.array(x_2)\n",
        "#x_3 = np.array(x_3)\n",
        "plt.scatter(x_1[:, 0], x_1[:, 1], color = 'cyan', s = 2)\n",
        "plt.scatter(x_2[:, 0], x_2[:, 1], color = 'yellow', s = 2)\n",
        "#plt.scatter(x_3[:, 0], x_3[:, 1], color = 'yellow', s = 2)\n",
        "C1plt = plt.scatter(X_1[:, 0], X_1[:, 1], color = 'blue', s = 2)\n",
        "C2plt = plt.scatter(X_2[:, 0], X_2[:, 1], color = 'red', s = 2)\n",
        "#C3plt = plt.scatter(X_3[:, 0], X_3[:, 1], color = 'green', s = 2)\n",
        "plt.title('Decision regions')\n",
        "plt.xlabel('X1')\n",
        "plt.ylabel('X2')\n",
        "plt.legend((C1plt, C2plt), ('Class 1', 'Class 2'))\n",
        "plt.scatter(clf.support_vectors_[:, 0], clf.support_vectors_[:, 1], facecolors='none', edgecolors='black', s = 32)"
      ],
      "execution_count": null,
      "outputs": [
        {
          "output_type": "execute_result",
          "data": {
            "text/plain": [
              "<matplotlib.collections.PathCollection at 0x7f3198cbd850>"
            ]
          },
          "metadata": {},
          "execution_count": 16
        },
        {
          "output_type": "stream",
          "name": "stderr",
          "text": [
            "/usr/local/lib/python3.7/dist-packages/google/colab/_event_manager.py:28: UserWarning: Creating legend with loc=\"best\" can be slow with large amounts of data.\n",
            "  func(*args, **kwargs)\n",
            "/usr/local/lib/python3.7/dist-packages/IPython/core/pylabtools.py:125: UserWarning: Creating legend with loc=\"best\" can be slow with large amounts of data.\n",
            "  fig.canvas.print_figure(bytes_io, **kw)\n"
          ]
        },
        {
          "output_type": "display_data",
          "data": {
            "image/png": "[encoded data removed]",
            "text/plain": [
              "<Figure size 432x288 with 1 Axes>"
            ]
          },
          "metadata": {
            "needs_background": "light"
          }
        }
      ]
    },
    {
      "cell_type": "code",
      "metadata": {
        "id": "j5RaJvND7gG0"
      },
      "source": [
        ""
      ],
      "execution_count": null,
      "outputs": []
    }
  ]
}