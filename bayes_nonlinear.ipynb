{
  "nbformat": 4,
  "nbformat_minor": 0,
  "metadata": {
    "colab": {
      "name": "bayes-nonlinear.ipynb",
      "provenance": [],
      "collapsed_sections": [],
      "authorship_tag": "ABX9TyNH2cvJiVfIeaMZHiP4FEiv",
      "include_colab_link": true
    },
    "kernelspec": {
      "name": "python3",
      "display_name": "Python 3"
    },
    "language_info": {
      "name": "python"
    }
  },
  "cells": [
    {
      "cell_type": "markdown",
      "metadata": {
        "id": "view-in-github",
        "colab_type": "text"
      },
      "source": [
        "<a href=\"https://colab.research.google.com/github/SachiSachu/CS401/blob/main/bayes_nonlinear.ipynb\" target=\"_parent\"><img src=\"https://colab.research.google.com/assets/colab-badge.svg\" alt=\"Open In Colab\"/></a>"
      ]
    },
    {
      "cell_type": "markdown",
      "metadata": {
        "id": "QlBa1LalEBAv"
      },
      "source": [
        "Non linear separable with bayes "
      ]
    },
    {
      "cell_type": "code",
      "metadata": {
        "id": "I2nudCKECYgW"
      },
      "source": [
        "import numpy as np\n",
        "import matplotlib.pyplot as plt\n",
        "import pandas as pd"
      ],
      "execution_count": null,
      "outputs": []
    },
    {
      "cell_type": "code",
      "metadata": {
        "id": "--PhIt6ZFqyA"
      },
      "source": [
        "# load data\n",
        "X_1 = np.loadtxt('class1_train.txt')\n",
        "X_2 = np.loadtxt('class2_train.txt')\n",
        "X_3 = np.loadtxt('class3_train.txt')\n",
        "X_1_val = np.loadtxt('class1_val.txt')\n",
        "X_2_val = np.loadtxt('class2_val.txt')\n",
        "X_3_val = np.loadtxt('class3_val.txt')\n",
        "X_1_test = np.loadtxt('class1_test.txt')\n",
        "X_2_test = np.loadtxt('class2_test.txt')\n",
        "X_3_test = np.loadtxt('class3_test.txt')"
      ],
      "execution_count": null,
      "outputs": []
    },
    {
      "cell_type": "code",
      "metadata": {
        "colab": {
          "base_uri": "https://localhost:8080/",
          "height": 312
        },
        "id": "padce00oFq0g",
        "outputId": "0742cc53-93c0-481c-faa4-4e8d5e5af381"
      },
      "source": [
        "# simply visualising data\n",
        "C1plt = plt.scatter(X_1[:, 0], X_1[:, 1], color = 'cyan', s = 2)\n",
        "C2plt = plt.scatter(X_2[:, 0], X_2[:, 1], color = 'magenta', s = 2)\n",
        "C3plt = plt.scatter(X_3[:, 0], X_3[:, 1], color = 'yellow', s = 2)\n",
        "plt.legend((C1plt, C2plt,C3plt), ('Class 1', 'Class 2', 'Class 3'))\n",
        "plt.title('Training data')\n",
        "plt.xlabel('X1')\n",
        "plt.ylabel('X2')"
      ],
      "execution_count": null,
      "outputs": [
        {
          "output_type": "execute_result",
          "data": {
            "text/plain": [
              "Text(0, 0.5, 'X2')"
            ]
          },
          "metadata": {},
          "execution_count": 57
        },
        {
          "output_type": "display_data",
          "data": {
            "image/png": "[encoded data removed]",
            "text/plain": [
              "<Figure size 432x288 with 1 Axes>"
            ]
          },
          "metadata": {
            "needs_background": "light"
          }
        }
      ]
    },
    {
      "cell_type": "code",
      "metadata": {
        "id": "JaxkELdSFq3H"
      },
      "source": [
        "# find parameters\n",
        "u_1 = np.mean(X_1, axis = 0)\n",
        "u_2 = np.mean(X_2, axis = 0)\n",
        "u_3 = np.mean(X_3, axis = 0)\n",
        "s_1 = np.mean(np.cov(X_1.T))\n",
        "s_2 = np.mean(np.cov(X_2.T))\n",
        "s_3 = np.mean(np.cov(X_3.T))\n",
        "s = np.mean([s_1, s_2, s_3])\n",
        "pc_1 = X_1.shape[0]/(X_1.shape[0]+X_2.shape[0]+X_3.shape[0])\n",
        "pc_2 = X_2.shape[0]/(X_1.shape[0]+X_2.shape[0]+X_3.shape[0])\n",
        "pc_3 = X_3.shape[0]/(X_1.shape[0]+X_2.shape[0]+X_3.shape[0])"
      ],
      "execution_count": null,
      "outputs": []
    },
    {
      "cell_type": "code",
      "metadata": {
        "id": "ZXJrtEV4Fq53"
      },
      "source": [
        "# define functions g1, g2, g3\n",
        "def g1(x):\n",
        "    w1 = u_1/s\n",
        "    w0 = -np.dot(u_1.T, u_1)/(2*s) + np.log(pc_1)\n",
        "    return np.dot(w1.T, x)+w0\n",
        "def g2(x):\n",
        "    w1 = u_2/s\n",
        "    w0 = -np.dot(u_2.T, u_2)/(2*s) + np.log(pc_2)\n",
        "    return np.dot(w1.T, x)+w0\n",
        "def g3(x):\n",
        "    w1 = u_3/s\n",
        "    w0 = -np.dot(u_3.T, u_3)/(2*s) + np.log(pc_3)\n",
        "    return np.dot(w1.T, x)+w0"
      ],
      "execution_count": null,
      "outputs": []
    },
    {
      "cell_type": "code",
      "metadata": {
        "id": "NkRXXauJFq8m"
      },
      "source": [
        "# classifier\n",
        "def predict(x):\n",
        "    return np.argmax([g1(x), g2(x), g3(x)])"
      ],
      "execution_count": null,
      "outputs": []
    },
    {
      "cell_type": "code",
      "metadata": {
        "colab": {
          "base_uri": "https://localhost:8080/",
          "height": 143
        },
        "id": "K-xZP4aTFq_Q",
        "outputId": "7853d4ea-32f6-4d63-cec9-6626d0eafb41"
      },
      "source": [
        "# confusion matrix\n",
        "# rows: predicted classes, columns: true classes\n",
        "ConfusionMatrix = np.zeros((3, 3))\n",
        "X = [X_1_test, X_2_test, X_3_test]\n",
        "for i in range(3):\n",
        "    for x in X[i]:\n",
        "        ConfusionMatrix[predict(x), i] = ConfusionMatrix[predict(x), i]+1\n",
        "pd.DataFrame(ConfusionMatrix, ['Predicted 1', 'Predicted 2', 'Predicted 3'],['True 1', 'True 2', 'True 3'])"
      ],
      "execution_count": null,
      "outputs": [
        {
          "output_type": "execute_result",
          "data": {
            "text/html": [
              "<div>\n",
              "<style scoped>\n",
              "    .dataframe tbody tr th:only-of-type {\n",
              "        vertical-align: middle;\n",
              "    }\n",
              "\n",
              "    .dataframe tbody tr th {\n",
              "        vertical-align: top;\n",
              "    }\n",
              "\n",
              "    .dataframe thead th {\n",
              "        text-align: right;\n",
              "    }\n",
              "</style>\n",
              "<table border=\"1\" class=\"dataframe\">\n",
              "  <thead>\n",
              "    <tr style=\"text-align: right;\">\n",
              "      <th></th>\n",
              "      <th>True 1</th>\n",
              "      <th>True 2</th>\n",
              "      <th>True 3</th>\n",
              "    </tr>\n",
              "  </thead>\n",
              "  <tbody>\n",
              "    <tr>\n",
              "      <th>Predicted 1</th>\n",
              "      <td>0.0</td>\n",
              "      <td>0.0</td>\n",
              "      <td>0.0</td>\n",
              "    </tr>\n",
              "    <tr>\n",
              "      <th>Predicted 2</th>\n",
              "      <td>0.0</td>\n",
              "      <td>0.0</td>\n",
              "      <td>32.0</td>\n",
              "    </tr>\n",
              "    <tr>\n",
              "      <th>Predicted 3</th>\n",
              "      <td>60.0</td>\n",
              "      <td>120.0</td>\n",
              "      <td>128.0</td>\n",
              "    </tr>\n",
              "  </tbody>\n",
              "</table>\n",
              "</div>"
            ],
            "text/plain": [
              "             True 1  True 2  True 3\n",
              "Predicted 1     0.0     0.0     0.0\n",
              "Predicted 2     0.0     0.0    32.0\n",
              "Predicted 3    60.0   120.0   128.0"
            ]
          },
          "metadata": {},
          "execution_count": 61
        }
      ]
    },
    {
      "cell_type": "code",
      "metadata": {
        "id": "0l9OEsSuMmXO",
        "colab": {
          "base_uri": "https://localhost:8080/"
        },
        "outputId": "b6294d5f-2893-4dd8-c472-6ef1d1e94cec"
      },
      "source": [
        "# performance measures\n",
        "N = np.sum(ConfusionMatrix[:, 0])\n",
        "TP = ConfusionMatrix[0, 0]\n",
        "TN = ConfusionMatrix[1, 1]\n",
        "FP = ConfusionMatrix[0, 1]\n",
        "FN = ConfusionMatrix[1, 0]\n",
        "Accuracy = 100*TP/N\n",
        "Precision = TP/(TP+FP)\n",
        "Recall = TP/(TP+FN)\n",
        "F_measure = 2*Precision*Recall/(Precision+Recall)\n",
        "print({\n",
        "    'Accuracy: ': Accuracy,\n",
        "})\n",
        "print({\n",
        "    'Precision: ': Precision,\n",
        "})\n",
        "print({\n",
        "    'Recall: ': Recall,\n",
        "})\n",
        "print({\n",
        "    'F_measure: ': F_measure,\n",
        "})"
      ],
      "execution_count": null,
      "outputs": [
        {
          "output_type": "stream",
          "name": "stdout",
          "text": [
            "{'Accuracy: ': 0.0}\n",
            "{'Precision: ': nan}\n",
            "{'Recall: ': nan}\n",
            "{'F_measure: ': nan}\n"
          ]
        },
        {
          "output_type": "stream",
          "name": "stderr",
          "text": [
            "/usr/local/lib/python3.7/dist-packages/ipykernel_launcher.py:8: RuntimeWarning: invalid value encountered in double_scalars\n",
            "  \n",
            "/usr/local/lib/python3.7/dist-packages/ipykernel_launcher.py:9: RuntimeWarning: invalid value encountered in double_scalars\n",
            "  if __name__ == '__main__':\n"
          ]
        }
      ]
    },
    {
      "cell_type": "code",
      "metadata": {
        "colab": {
          "base_uri": "https://localhost:8080/"
        },
        "id": "O9imPJjiFrB0",
        "outputId": "c817f05e-1c25-4c0e-b7af-fdef17e03f6e"
      },
      "source": [
        "# performance measures\n",
        "N = np.sum(ConfusionMatrix, axis = 0)\n",
        "TP = np.diagonal(ConfusionMatrix)\n",
        "TN = np.sum(TP)-TP\n",
        "FP = np.sum(ConfusionMatrix, axis = 1)-TP\n",
        "FN = np.sum(ConfusionMatrix, axis = 0)-TP\n",
        "Accuracy = 100*TP/N\n",
        "Precision = TP/(TP+FP)\n",
        "Recall = TP//(TP+FN)\n",
        "F_measure = 2*Precision*Recall/(Precision+Recall)\n",
        "print({\n",
        "    'Accuracy: ': Accuracy.tolist(),\n",
        "    'Mean Accuracy': np.mean(Accuracy)\n",
        "})\n",
        "print({\n",
        "    'Precision: ': Precision.tolist(),\n",
        "    'Mean Precision': np.mean(Precision)\n",
        "})\n",
        "print({\n",
        "    'Recall: ': Recall.tolist(),\n",
        "    'Mean Recall': np.mean(Recall)\n",
        "})\n",
        "print({\n",
        "    'F_measure: ': F_measure.tolist(),\n",
        "    'Mean F_measure': np.mean(F_measure)\n",
        "})\n"
      ],
      "execution_count": null,
      "outputs": [
        {
          "output_type": "stream",
          "name": "stdout",
          "text": [
            "{'Accuracy: ': [0.0, 0.0, 80.0], 'Mean Accuracy': 26.666666666666668}\n",
            "{'Precision: ': [nan, 0.0, 0.4155844155844156], 'Mean Precision': nan}\n",
            "{'Recall: ': [0.0, 0.0, 0.0], 'Mean Recall': 0.0}\n",
            "{'F_measure: ': [nan, nan, 0.0], 'Mean F_measure': nan}\n"
          ]
        },
        {
          "output_type": "stream",
          "name": "stderr",
          "text": [
            "/usr/local/lib/python3.7/dist-packages/ipykernel_launcher.py:8: RuntimeWarning: invalid value encountered in true_divide\n",
            "  \n",
            "/usr/local/lib/python3.7/dist-packages/ipykernel_launcher.py:10: RuntimeWarning: invalid value encountered in true_divide\n",
            "  # Remove the CWD from sys.path while we load stuff.\n"
          ]
        }
      ]
    },
    {
      "cell_type": "code",
      "metadata": {
        "colab": {
          "base_uri": "https://localhost:8080/",
          "height": 385
        },
        "id": "MuD7k2ASFrEl",
        "outputId": "da6a491d-8548-4068-c6f1-b00872a72193"
      },
      "source": [
        "# Decision region plot for all the classes together with the training data superposed\n",
        "x_min = min([min(X_1[:, 0]), min(X_2[:, 0]), min(X_3[:, 0])])\n",
        "y_min = min([min(X_1[:, 1]), min(X_2[:, 1]), min(X_3[:, 1])])\n",
        "x_max = max([max(X_1[:, 0]), max(X_2[:, 0]), max(X_3[:, 0])])\n",
        "y_max = max([max(X_1[:, 1]), max(X_2[:, 1]), max(X_3[:, 1])])\n",
        "x_1 = []\n",
        "x_2 = []\n",
        "x_3 = []\n",
        "for x in np.arange(x_min, x_max, 0.01):\n",
        "    for y in np.arange(y_min, y_max, 0.01):\n",
        "        c = predict([x, y])\n",
        "        if c == 1:\n",
        "            x_1.append([x, y])\n",
        "        elif c == 2:\n",
        "            x_2.append([x, y])\n",
        "\n",
        "x_1 = np.array(x_1)\n",
        "x_2 = np.array(x_2)\n",
        "plt.scatter(x_1[:, 0], x_1[:, 1], color = 'cyan', s = 2)\n",
        "plt.scatter(x_2[:, 0], x_2[:, 1], color = 'magenta', s = 2)\n",
        "C1plt = plt.scatter(X_1[:, 0], X_1[:, 1], color = 'blue', s = 2)\n",
        "C2plt = plt.scatter(X_2[:, 0], X_2[:, 1], color = 'red', s = 2)\n",
        "plt.title('Decision regions')\n",
        "plt.xlabel('X1')\n",
        "plt.ylabel('X2')\n",
        "plt.legend((C1plt, C2plt), ('Class 1', 'Class 2'))"
      ],
      "execution_count": null,
      "outputs": [
        {
          "output_type": "execute_result",
          "data": {
            "text/plain": [
              "<matplotlib.legend.Legend at 0x7fde82f8d910>"
            ]
          },
          "metadata": {},
          "execution_count": 90
        },
        {
          "output_type": "stream",
          "name": "stderr",
          "text": [
            "/usr/local/lib/python3.7/dist-packages/google/colab/_event_manager.py:28: UserWarning: Creating legend with loc=\"best\" can be slow with large amounts of data.\n",
            "  func(*args, **kwargs)\n",
            "/usr/local/lib/python3.7/dist-packages/IPython/core/pylabtools.py:125: UserWarning: Creating legend with loc=\"best\" can be slow with large amounts of data.\n",
            "  fig.canvas.print_figure(bytes_io, **kw)\n"
          ]
        },
        {
          "output_type": "display_data",
          "data": {
            "image/png": "[encoded data removed]",
            "text/plain": [
              "<Figure size 432x288 with 1 Axes>"
            ]
          },
          "metadata": {
            "needs_background": "light"
          }
        }
      ]
    }
  ]
}